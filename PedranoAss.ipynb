{
 "cells": [
  {
   "cell_type": "code",
   "execution_count": null,
   "id": "929542f5",
   "metadata": {},
   "outputs": [],
   "source": []
  },
  {
   "cell_type": "markdown",
   "id": "658e0acc",
   "metadata": {},
   "source": [
    "Janciel Fidel M. Pedrano\n",
    "21103748"
   ]
  },
  {
   "cell_type": "markdown",
   "id": "2a6246e0",
   "metadata": {},
   "source": [
    "1. Let $\\textbf{u} = (1, -2, 4)$ and $\\textbf{v} = (3,5,1)$ $\\textbf{w} = (2,1,-3)$ find:<br>\n",
    "<br>\n",
    "\n",
    "a. $3\\textbf{u}-2\\textbf{v}$<br>\n",
    "<br>\n",
    "\\begin{align}\n",
    "    3\\textbf{u}-2\\textbf{v} &= 3\\begin{bmatrix}\n",
    "           1 \\\\\n",
    "           -2 \\\\\n",
    "           4\n",
    "         \\end{bmatrix} - 2 \\begin{bmatrix}\n",
    "           3 \\\\\n",
    "           5 \\\\\n",
    "           1\n",
    "         \\end{bmatrix}= \\begin{bmatrix}\n",
    "           3 \\\\\n",
    "           -6 \\\\\n",
    "           12\n",
    "         \\end{bmatrix} + \\begin{bmatrix}\n",
    "           -6 \\\\\n",
    "           -10 \\\\\n",
    "           -2\n",
    "         \\end{bmatrix} = \\begin{bmatrix}\n",
    "           -3 \\\\\n",
    "           -16 \\\\\n",
    "           10\n",
    "         \\end{bmatrix}\n",
    "  \\end{align}\n"
   ]
  },
  {
   "cell_type": "code",
   "execution_count": 1,
   "id": "3d3244e3-340b-47ca-8d12-8cc0efd4940d",
   "metadata": {
    "tags": []
   },
   "outputs": [
    {
     "name": "stdout",
     "output_type": "stream",
     "text": [
      "[ -3 -16  10]\n"
     ]
    }
   ],
   "source": [
    "import numpy as np\n",
    "import matplotlib.pyplot as plt\n",
    "\n",
    "#1\n",
    "u = np.array([1, -2, 4])   # vector u\n",
    "v = np.array([3, 5, 1])   # vector v:\n",
    "w = np.array([2, 1, -3]) # vector w\n",
    "\n",
    "#1a\n",
    "print(3*u - 2*v)"
   ]
  },
  {
   "cell_type": "markdown",
   "id": "c562ee30",
   "metadata": {},
   "source": []
  },
  {
   "cell_type": "markdown",
   "id": "6cb0700d",
   "metadata": {},
   "source": [
    "<br><br>b.$5\\textbf{u}+3\\textbf{v}-4\\textbf{w}$<br>\n",
    "<br>\n",
    "\\begin{align}\n",
    " 5\\textbf{u}+3\\textbf{v}-4\\textbf{w} =  5\\begin{bmatrix}\n",
    "           1 \\\\\n",
    "           -2 \\\\\n",
    "           4\n",
    "         \\end{bmatrix} + 3\\begin{bmatrix}\n",
    "           3 \\\\\n",
    "           5 \\\\\n",
    "           1\n",
    "         \\end{bmatrix} - 4\\begin{bmatrix}\n",
    "           2 \\\\\n",
    "           1 \\\\\n",
    "           -3\n",
    "         \\end{bmatrix} = \\begin{bmatrix}\n",
    "           5 \\\\\n",
    "           -10 \\\\\n",
    "           20\n",
    "         \\end{bmatrix} + \\begin{bmatrix}\n",
    "           9 \\\\\n",
    "           15 \\\\\n",
    "           3\n",
    "         \\end{bmatrix} + \\begin{bmatrix}\n",
    "           -8 \\\\\n",
    "           -4 \\\\\n",
    "           12\n",
    "         \\end{bmatrix}= \\begin{bmatrix}\n",
    "           6 \\\\\n",
    "           1 \\\\\n",
    "           35\n",
    "         \\end{bmatrix}\n",
    "  \\end{align}"
   ]
  },
  {
   "cell_type": "code",
   "execution_count": 2,
   "id": "3a343e6b-9f3d-4cec-bf81-6a172a44e369",
   "metadata": {
    "tags": []
   },
   "outputs": [
    {
     "name": "stdout",
     "output_type": "stream",
     "text": [
      "[ 6  1 35]\n"
     ]
    }
   ],
   "source": [
    "#1b\n",
    "print(5*u + 3*v - 4*w)"
   ]
  },
  {
   "cell_type": "markdown",
   "id": "6e08ba87",
   "metadata": {},
   "source": [
    "<br><br>c. $\\mathbf{u} \\cdot \\mathbf{v}$, $\\mathbf{v} \\cdot \\mathbf{w}$, $\\mathbf{u} \\cdot \\mathbf{w}$<br>\n",
    "\n",
    "\\begin{align}\n",
    "u \\cdot v &= \\begin{bmatrix}          \n",
    "           1 \\\\\n",
    "           -2 \\\\\n",
    "           4\n",
    "           \\end{bmatrix} \\cdot\n",
    "           \\begin{bmatrix}\n",
    "           3 \\\\\n",
    "           5 \\\\\n",
    "           1\n",
    "           \\end{bmatrix} \n",
    "&= (-3) \\\\\n",
    "v \\cdot w &=  \\begin{bmatrix}          \n",
    "           3 \\\\\n",
    "           5 \\\\\n",
    "           1\n",
    "           \\end{bmatrix} \\cdot\n",
    "           \\begin{bmatrix}\n",
    "           2 \\\\\n",
    "           1 \\\\\n",
    "           -3\n",
    "           \\end{bmatrix}\n",
    "&= 8 \\\\\n",
    "u \\cdot w &= \\begin{bmatrix}          \n",
    "           1 \\\\\n",
    "           -2 \\\\\n",
    "           4\n",
    "           \\end{bmatrix} \\cdot\n",
    "           \\begin{bmatrix}\n",
    "           2 \\\\\n",
    "           1 \\\\\n",
    "           -3\n",
    "           \\end{bmatrix} \n",
    "&= (-12)\n",
    "\\end{align}"
   ]
  },
  {
   "cell_type": "code",
   "execution_count": 3,
   "id": "438d7f7c-6960-4d69-b4c2-a87db6c4bca1",
   "metadata": {
    "tags": []
   },
   "outputs": [
    {
     "name": "stdout",
     "output_type": "stream",
     "text": [
      "u.v =  -3\n",
      "v.w =  8\n",
      "u.w =  -12\n"
     ]
    }
   ],
   "source": [
    "#1c\n",
    "print(\"u.v = \", u.dot(v))\n",
    "print(\"v.w = \", v.dot(w))\n",
    "print(\"u.w = \", u.dot(w))"
   ]
  },
  {
   "cell_type": "markdown",
   "id": "c8555604",
   "metadata": {},
   "source": [
    "<br><br>d. ||$\\textbf{u}||, ||$\\textbf{v}||, ||$\\textbf{w}$||<br>\n",
    "\n",
    "\\begin{align}\n",
    " ||u|| = \\sqrt{1^2 + (-2)^2 + 4^2} = \\sqrt{21} \\\\\n",
    "      ||v|| = \\sqrt{3^2 + 5^2 + 1^2} = \\sqrt{35} \\\\\n",
    "      ||w|| = \\sqrt{2^2 + 1^2 + (-3)^2} = \\sqrt{14} \\\\\n",
    "       \\\\\n",
    "&= 7\n",
    "\\end{align}\n"
   ]
  },
  {
   "cell_type": "code",
   "execution_count": 4,
   "id": "5dc7015d-987a-4dce-b714-080188a004c5",
   "metadata": {
    "tags": []
   },
   "outputs": [
    {
     "name": "stdout",
     "output_type": "stream",
     "text": [
      "||u||:  4.58257569495584\n"
     ]
    }
   ],
   "source": [
    "#1d\n",
    "print('||u||: ', np.sqrt(u.dot(u)))"
   ]
  },
  {
   "cell_type": "code",
   "execution_count": 5,
   "id": "d6671da8-bffd-44c5-ab88-18aaa4574962",
   "metadata": {
    "tags": []
   },
   "outputs": [
    {
     "name": "stdout",
     "output_type": "stream",
     "text": [
      "||v||:  5.916079783099616\n"
     ]
    }
   ],
   "source": [
    "\n",
    "print('||v||: ', np.sqrt(v.dot(v)))"
   ]
  },
  {
   "cell_type": "code",
   "execution_count": 6,
   "id": "858f6424-5c94-4388-8b2a-a75ae16164d8",
   "metadata": {
    "tags": []
   },
   "outputs": [
    {
     "name": "stdout",
     "output_type": "stream",
     "text": [
      "||w||:  3.7416573867739413\n"
     ]
    }
   ],
   "source": [
    "\n",
    "print('||w||: ', np.sqrt(w.dot(w)))"
   ]
  },
  {
   "cell_type": "markdown",
   "id": "30e52e67",
   "metadata": {},
   "source": [
    "<br> <br>e. If $\\theta$ is the angle between $\\textbf{u}$  and   $\\textbf{v}$, find $\\cos{\\theta}$.<br>\n",
    "\\begin{align}\n",
    "      = \\frac{1(3) - 2(5) + 4(1)}{\\sqrt{1^2 + (-2)^2 + 4^2}\\sqrt{3^2 + 5^2 + 1^2}}\n",
    "      = \\frac{-3}{\\sqrt{21}\\sqrt{35}}\n",
    "\\end{align}"
   ]
  },
  {
   "cell_type": "code",
   "execution_count": 7,
   "id": "92ca5758-5162-4e6b-a2e2-99c5c2cf420a",
   "metadata": {
    "tags": []
   },
   "outputs": [
    {
     "name": "stdout",
     "output_type": "stream",
     "text": [
      "angle: -0.11065666703449763\n"
     ]
    }
   ],
   "source": [
    "#1e\n",
    "print(\"angle:\",u.dot(v)/(np.linalg.norm(u)*np.linalg.norm(v)))"
   ]
  },
  {
   "cell_type": "markdown",
   "id": "7246b463",
   "metadata": {},
   "source": [
    "<br><br>f. If $\\alpha$ is the angle between $\\textbf{v}$  and   $\\textbf{w}$, find $\\cos{\\alpha}$.<br>\n",
    "\\begin{align}\n",
    "= \\frac{3(2) + 5(1) + 1(-3)}{\\sqrt{1^2 + (-2)^2 + 4^2}\\sqrt{3^2 + 5^2 + 1^2}}\n",
    "       = \\frac{8}{\\sqrt{35}\\sqrt{14}}\n",
    "\\end{align}"
   ]
  },
  {
   "cell_type": "code",
   "execution_count": 8,
   "id": "e6f80424-b549-44e6-92fb-999e403d8b47",
   "metadata": {
    "tags": []
   },
   "outputs": [
    {
     "name": "stdout",
     "output_type": "stream",
     "text": [
      "angle: 0.36140316116210053\n"
     ]
    }
   ],
   "source": [
    "#1f\n",
    "print(\"angle:\",v.dot(w)/(np.linalg.norm(v)*np.linalg.norm(w)))"
   ]
  },
  {
   "cell_type": "markdown",
   "id": "4b3be259",
   "metadata": {},
   "source": [
    "<br><br>g. If $\\beta$ is the angle between $\\textbf{u}$  and   $\\textbf{w}$, find $\\cos{\\beta}$.<br>\n",
    "\\begin{align}\n",
    "  = \\frac{1(2) - 2(1) + 4(-3)}{\\sqrt{1^2 + (-2)^2 + 4^2}\\sqrt{3^2 + 5^2 + 1^2}}\n",
    "       = \\frac{-12}{\\sqrt{21}\\sqrt{14}}\n",
    "\\end{align}"
   ]
  },
  {
   "cell_type": "code",
   "execution_count": 9,
   "id": "84b94531-cf05-4265-ba1a-7630326f1b05",
   "metadata": {
    "tags": []
   },
   "outputs": [
    {
     "name": "stdout",
     "output_type": "stream",
     "text": [
      "angle: -0.6998542122237653\n"
     ]
    }
   ],
   "source": [
    "#1g\n",
    "print(\"angle:\",u.dot(w)/(np.linalg.norm(u)*np.linalg.norm(w)))"
   ]
  },
  {
   "cell_type": "markdown",
   "id": "32c03466",
   "metadata": {},
   "source": [
    "<br><br>h. Find $d(\\textbf{u},\\textbf{v})$.<br>\n",
    "\\begin{align}\n",
    "d(u,v)= ||u - v|| = \\sqrt{(1-3)^2 + (-2-5)^2 + (4-1)^2}\n",
    "       = \\sqrt{4 + 49 + 9} = \\sqrt{62} \n",
    "\\end{align}"
   ]
  },
  {
   "cell_type": "code",
   "execution_count": 10,
   "id": "2ea65ef5-f02d-424c-951f-4533c711c7fe",
   "metadata": {},
   "outputs": [
    {
     "name": "stdout",
     "output_type": "stream",
     "text": [
      "d(u,v):  7.874007874011811\n"
     ]
    }
   ],
   "source": [
    "#1h\n",
    "print(\"d(u,v): \", np.linalg.norm(u-v))"
   ]
  },
  {
   "cell_type": "markdown",
   "id": "67e393c6",
   "metadata": {},
   "source": [
    "<br><br>i. Find $d(\\textbf{w},\\textbf{v})$.<br>\n",
    "\n",
    "\\begin{align}\n",
    "d(w,v) = ||w - v|| = \\sqrt{(2-3)^2 + (1-5)^2 + (-3-1)^2}\n",
    "       = $\\sqrt{1 + 16 + 16} = \\sqrt{33}\n",
    "\\end{align}"
   ]
  },
  {
   "cell_type": "code",
   "execution_count": 11,
   "id": "fccd3059",
   "metadata": {},
   "outputs": [
    {
     "name": "stdout",
     "output_type": "stream",
     "text": [
      "d(w,v):  5.744562646538029\n"
     ]
    }
   ],
   "source": [
    "#1i\n",
    "print(\"d(w,v): \", np.linalg.norm(w-v))"
   ]
  },
  {
   "cell_type": "markdown",
   "id": "6e4b6d31",
   "metadata": {},
   "source": [
    "<br><br>j. Find $d(\\textbf{u},\\textbf{w})$. <br>\n",
    "\n",
    "\\begin{align}\n",
    "d(u,w) = ||u - w|| = \\sqrt{(1-2)^2 + (-2-1)^2 + (4-(-3))^2}\n",
    "       = \\sqrt{1 + 9 + 49} = \\sqrt{59} \n",
    "\\end{align}"
   ]
  },
  {
   "cell_type": "code",
   "execution_count": 12,
   "id": "b61c4b9a",
   "metadata": {},
   "outputs": [
    {
     "name": "stdout",
     "output_type": "stream",
     "text": [
      "d(u,w):  7.681145747868608\n"
     ]
    }
   ],
   "source": [
    "#1j\n",
    "print(\"d(u,w): \", np.linalg.norm(u-w))"
   ]
  },
  {
   "cell_type": "markdown",
   "id": "fa031d4a",
   "metadata": {},
   "source": [
    "<br><br>k. Find $proj(\\textbf{u},\\textbf{v})$.<br>\n",
    "\n",
    "\\begin{align}\n",
    "proj(u,v) = \\frac{u \\cdot v}{||v||^2}v =\n",
    "       \\frac{-3}{(\\sqrt{35})^2}(3,5,1) = (\\frac{-9}{35}), \n",
    "       \\frac{-15}{(35)}, \\frac{-3}{35} \n",
    "\\end{align}"
   ]
  },
  {
   "cell_type": "code",
   "execution_count": 13,
   "id": "a3a0c4dc",
   "metadata": {},
   "outputs": [
    {
     "name": "stdout",
     "output_type": "stream",
     "text": [
      "proj(u,v):  [-0.25714286 -0.42857143 -0.08571429]\n"
     ]
    }
   ],
   "source": [
    "#1k\n",
    "print(\"proj(u,v): \",u.dot(v)*v/(np.linalg.norm(v)**2) )"
   ]
  },
  {
   "cell_type": "markdown",
   "id": "d264e977",
   "metadata": {},
   "source": [
    "<br><br>l. Find $proj(\\textbf{w},\\textbf{v})$.<br>\n",
    "\n",
    "\\begin{align}\n",
    " proj(w,v) = \\frac{w \\cdot v}{||v||^2}v= \n",
    "       \\frac{8}{(\\sqrt{35})^2}(3,5,1) = (\\frac{24}{35}, \n",
    "       \\frac{40}{35}, \\frac{8}{35})\n",
    "\\end{align}"
   ]
  },
  {
   "cell_type": "code",
   "execution_count": 14,
   "id": "632554b2",
   "metadata": {},
   "outputs": [
    {
     "name": "stdout",
     "output_type": "stream",
     "text": [
      "proj(w,v):  [0.68571429 1.14285714 0.22857143]\n"
     ]
    }
   ],
   "source": [
    "#1l\n",
    "print(\"proj(w,v): \",w.dot(v)*v/(np.linalg.norm(v)**2) )\n"
   ]
  },
  {
   "cell_type": "code",
   "execution_count": 15,
   "id": "9678f163",
   "metadata": {},
   "outputs": [
    {
     "ename": "SyntaxError",
     "evalue": "invalid syntax (777771239.py, line 1)",
     "output_type": "error",
     "traceback": [
      "\u001b[1;36m  Cell \u001b[1;32mIn[15], line 1\u001b[1;36m\u001b[0m\n\u001b[1;33m    <br><br>m. Find $proj(\\textbf{u},\\textbf{w})$. <br>\u001b[0m\n\u001b[1;37m    ^\u001b[0m\n\u001b[1;31mSyntaxError\u001b[0m\u001b[1;31m:\u001b[0m invalid syntax\n"
     ]
    }
   ],
   "source": [
    "<br><br>m. Find $proj(\\textbf{u},\\textbf{w})$. <br> \n",
    "\n",
    "\\begin{align}\n",
    "proj(u,w) = \\frac{u \\cdot w}{||w||^2}w = \n",
    "       \\frac{-12}{(\\sqrt{14})^2}(2,1,-3) = (\\frac{-24}{14}, \n",
    "       \\frac{-12}{14}, \\frac{36}{14})\n",
    "\\end{align}"
   ]
  },
  {
   "cell_type": "code",
   "execution_count": null,
   "id": "c8c1d923",
   "metadata": {},
   "outputs": [],
   "source": [
    "#1m\n",
    "print(\"proj(u,w): \",u.dot(w)*w/(np.linalg.norm(w)**2) )"
   ]
  },
  {
   "cell_type": "code",
   "execution_count": null,
   "id": "835a8e4e",
   "metadata": {},
   "outputs": [],
   "source": [
    "#2\n",
    "u = np.array([1, 3, 4])   # vector u\n",
    "v = np.array([2, 1, 5])   # vector v:\n",
    "w = np.array([3, -2, 6]) # vector w"
   ]
  },
  {
   "cell_type": "markdown",
   "id": "fb949257",
   "metadata": {},
   "source": [
    "2. Repeat problem 1 with the following column vectors:\n",
    "\\begin{align}\n",
    "    \\textbf{u} &= \\begin{bmatrix}\n",
    "           1 \\\\\n",
    "           3 \\\\\n",
    "           -4\n",
    "         \\end{bmatrix}, \\textbf{v} = \\begin{bmatrix}\n",
    "           2 \\\\\n",
    "           1 \\\\\n",
    "           5\n",
    "         \\end{bmatrix}, \\textbf{w} = \\begin{bmatrix}\n",
    "           3 \\\\\n",
    "           -2 \\\\\n",
    "           6\n",
    "         \\end{bmatrix}\n",
    "  \\end{align}"
   ]
  },
  {
   "cell_type": "markdown",
   "id": "d1615982",
   "metadata": {},
   "source": [
    "a. $3\\textbf{u}-2\\textbf{v}$<br>\n",
    "<br>\n",
    "\\begin{align}\n",
    "    3\\textbf{u}-2\\textbf{v} &= 3\\begin{bmatrix}\n",
    "           1 \\\\\n",
    "           3 \\\\\n",
    "           4\n",
    "         \\end{bmatrix} - 2 \\begin{bmatrix}\n",
    "           2 \\\\\n",
    "           1 \\\\\n",
    "           5\n",
    "         \\end{bmatrix}= \\begin{bmatrix}\n",
    "           3 \\\\\n",
    "           9 \\\\\n",
    "           -12\n",
    "         \\end{bmatrix} + \\begin{bmatrix}\n",
    "           -4 \\\\\n",
    "           -2 \\\\\n",
    "           -10\n",
    "         \\end{bmatrix} = \\begin{bmatrix}\n",
    "           -1 \\\\\n",
    "           7 \\\\\n",
    "           -22\n",
    "         \\end{bmatrix}\n",
    "  \\end{align}"
   ]
  },
  {
   "cell_type": "code",
   "execution_count": null,
   "id": "9dd037df",
   "metadata": {},
   "outputs": [],
   "source": [
    "#2a\n",
    "print(3*u - 2*w)"
   ]
  },
  {
   "cell_type": "markdown",
   "id": "0d5cac5c",
   "metadata": {},
   "source": [
    "<br><br>b. $5\\textbf{u}+3\\textbf{v}-4\\textbf{w}$<br>\n",
    "\\begin{align}\n",
    " 5\\textbf{u}+3\\textbf{v}-4\\textbf{w} =  5\\begin{bmatrix}\n",
    "           1 \\\\\n",
    "           3 \\\\\n",
    "           -4\n",
    "         \\end{bmatrix} + 3\\begin{bmatrix}\n",
    "           2 \\\\\n",
    "           1 \\\\\n",
    "           5\n",
    "         \\end{bmatrix} - 4\\begin{bmatrix}\n",
    "           3 \\\\\n",
    "           -2 \\\\\n",
    "           6\n",
    "         \\end{bmatrix} = \\begin{bmatrix}\n",
    "           5 \\\\\n",
    "           15 \\\\\n",
    "           -20\n",
    "         \\end{bmatrix} + \\begin{bmatrix}\n",
    "           6 \\\\\n",
    "           3 \\\\\n",
    "           15\n",
    "         \\end{bmatrix} + \\begin{bmatrix}\n",
    "           -12 \\\\\n",
    "           8 \\\\\n",
    "           -24\n",
    "         \\end{bmatrix}= \\begin{bmatrix}\n",
    "           -1 \\\\\n",
    "           26 \\\\\n",
    "           29\n",
    "         \\end{bmatrix}\n",
    "  \\end{align}"
   ]
  },
  {
   "cell_type": "code",
   "execution_count": null,
   "id": "9a058b9b",
   "metadata": {},
   "outputs": [],
   "source": [
    "#2b\n",
    "print(5*u + 3*v - 4*w)"
   ]
  },
  {
   "cell_type": "markdown",
   "id": "e8dbc9a3",
   "metadata": {},
   "source": [
    "<br><br>c. $\\textbf{u} \\cdotp \\textbf{v}$,$\\textbf{v} \\cdotp \\textbf{w}$, $\\textbf{u} \\cdotp \\textbf{w}$<br>\n",
    "\\begin{align}\n",
    "u \\cdot v &= \\begin{bmatrix}          \n",
    "           1 \\\\\n",
    "           3 \\\\\n",
    "           -4\n",
    "           \\end{bmatrix} \\cdot\n",
    "           \\begin{bmatrix}\n",
    "           2 \\\\\n",
    "           1 \\\\\n",
    "           5\n",
    "           \\end{bmatrix} \n",
    "&= (-15) \\\\\n",
    "v \\cdot w &=  \\begin{bmatrix}          \n",
    "           2 \\\\\n",
    "           1 \\\\\n",
    "           5\n",
    "           \\end{bmatrix} \\cdot\n",
    "           \\begin{bmatrix}\n",
    "           3 \\\\\n",
    "           -2 \\\\\n",
    "           6\n",
    "           \\end{bmatrix}\n",
    "&= 34 \\\\\n",
    "u \\cdot w &= \\begin{bmatrix}          \n",
    "           1 \\\\\n",
    "           3 \\\\\n",
    "           -4\n",
    "           \\end{bmatrix} \\cdot\n",
    "           \\begin{bmatrix}\n",
    "           3 \\\\\n",
    "           -2 \\\\\n",
    "           6\n",
    "           \\end{bmatrix} \n",
    "&= (-27)\n",
    "\\end{align}"
   ]
  },
  {
   "cell_type": "code",
   "execution_count": null,
   "id": "a4ef8836",
   "metadata": {},
   "outputs": [],
   "source": [
    "#2c\n",
    "print(\"u.v = \", u.dot(v))\n",
    "print(\"v.w = \", v.dot(w))\n",
    "print(\"u.w = \", u.dot(w))"
   ]
  },
  {
   "cell_type": "markdown",
   "id": "6fe74701",
   "metadata": {},
   "source": [
    "<br><br>d. ||$\\textbf{u}||, ||$\\textbf{v}||, ||$\\textbf{w}$||<br>\n",
    "\\begin{align}\n",
    "||u|| = \\sqrt{1^2 + 3^2 + (-4)^2}\n",
    "= \\sqrt{1 + 9 + 16} \n",
    "= \\sqrt{26} \\\\\n",
    "||v|| = \\sqrt{2^2 + 1^2 + 5^2}\n",
    "= \\sqrt{4 + 1 + 25}\n",
    "= \\sqrt{30}\\\\\n",
    "||w|| = \\sqrt{3^2 + (-2)^2 + 6^2}\n",
    "= \\sqrt{9 + 4 + 36}\n",
    "= \\sqrt{49}\n",
    "= 7 \n",
    "\\end{align}"
   ]
  },
  {
   "cell_type": "code",
   "execution_count": null,
   "id": "2499b06d",
   "metadata": {},
   "outputs": [],
   "source": [
    "#2d\n",
    "print('||u||: ', np.sqrt(u.dot(u)))"
   ]
  },
  {
   "cell_type": "code",
   "execution_count": null,
   "id": "84059ebc",
   "metadata": {},
   "outputs": [],
   "source": [
    "print('||v||: ', np.sqrt(v.dot(v)))"
   ]
  },
  {
   "cell_type": "code",
   "execution_count": null,
   "id": "e6ff94d5",
   "metadata": {},
   "outputs": [],
   "source": [
    "print('||w||: ', np.sqrt(w.dot(w)))"
   ]
  },
  {
   "cell_type": "markdown",
   "id": "d1623d08",
   "metadata": {},
   "source": [
    "<br><br>e. If $\\theta$ is the angle between $\\textbf{u}$  and   $\\textbf{v}$, find $\\cos{\\theta}$.<br>\n",
    "\\begin{align}\n",
    "\\frac{\\textbf{u} \\cdot \\textbf{v}}{||\\textbf{u}|| \\ ||\\textbf{v}||}\n",
    "= \\frac{-15}{\\sqrt{26} \\cdot \\sqrt{30}}\n",
    "\\end{align}\n",
    "\n"
   ]
  },
  {
   "cell_type": "code",
   "execution_count": null,
   "id": "ffebb159",
   "metadata": {},
   "outputs": [],
   "source": [
    "#2e\n",
    "print(\"angle:\",u.dot(v)/(np.linalg.norm(u)*np.linalg.norm(v)))"
   ]
  },
  {
   "cell_type": "markdown",
   "id": "c1c3ef92",
   "metadata": {},
   "source": [
    "<br><br>f. If $\\alpha$ is the angle between $\\textbf{v}$  and   $\\textbf{w}$, find $\\cos{\\alpha}$.<br>\n",
    "\n",
    "\n",
    "\\begin{align}\n",
    "\\frac{\\textbf{v} \\cdot \\textbf{w}}{||\\textbf{v}|| \\ ||\\textbf{w}||}\n",
    "= \\frac{34}{\\sqrt{30} \\cdot \\sqrt{49}}\n",
    "= \\frac{34}{7 \\cdot \\sqrt{30}}\n",
    "\\end{align}\n"
   ]
  },
  {
   "cell_type": "code",
   "execution_count": null,
   "id": "55ff79d0",
   "metadata": {},
   "outputs": [],
   "source": [
    "#2f\n",
    "print(\"angle:\",v.dot(w)/(np.linalg.norm(v)*np.linalg.norm(w)))"
   ]
  },
  {
   "cell_type": "markdown",
   "id": "5e928ca4",
   "metadata": {},
   "source": [
    "<br><br>g. If $\\beta$ is the angle between $\\textbf{u}$  and   $\\textbf{w}$, find \\cos{\\beta}.\n",
    "\\begin{align}\n",
    "\\frac{\\textbf{u} \\cdot \\textbf{w}}{||\\textbf{u}|| \\ ||\\textbf{w}||}\n",
    "= \\frac{-27}{\\sqrt{26} \\cdot \\sqrt{49}}\n",
    "= \\frac{-27}{7\\sqrt{26}}\n",
    "\\end{align}\n"
   ]
  },
  {
   "cell_type": "code",
   "execution_count": null,
   "id": "92fee494",
   "metadata": {},
   "outputs": [],
   "source": [
    "#2g\n",
    "print(\"angle:\",u.dot(w)/(np.linalg.norm(u)*np.linalg.norm(w)))"
   ]
  },
  {
   "cell_type": "markdown",
   "id": "74c48eaa",
   "metadata": {},
   "source": [
    "<br><br>h. Find $d(\\textbf{u},\\textbf{v})$.<br>\n",
    "\\begin{align}\n",
    "= ||u - v||\n",
    "= \\sqrt{(1-2)^2 + (3-1)^2 + (-4-5)^2}\n",
    "= \\sqrt{(-1)^2 + (2)^2 + (-9)^2}\n",
    "= \\sqrt{1 + 4 + 81}\n",
    "= \\sqrt{86}\n",
    "\\end{align}"
   ]
  },
  {
   "cell_type": "code",
   "execution_count": null,
   "id": "b22da1ef",
   "metadata": {},
   "outputs": [],
   "source": [
    "#2h\n",
    "print(\"d(u,v): \", np.linalg.norm(u-v))"
   ]
  },
  {
   "cell_type": "markdown",
   "id": "1b591be8",
   "metadata": {},
   "source": [
    "<br><br>i. Find $d(\\textbf{w},\\textbf{v})$.<br>\n",
    "\\begin{align}\n",
    "||w - v|| &= \\sqrt{(3-2)^2 + (-2-1)^2 + (6-5)^2} \\\\\n",
    "&= \\sqrt{(1)^2 + (-3)^2 + (1)^2} \\\\\n",
    "&= \\sqrt{1 + 9 + 1} \\\\\n",
    "&= \\sqrt{11}\n",
    "\\end{align}\n"
   ]
  },
  {
   "cell_type": "code",
   "execution_count": null,
   "id": "9ffa45e7",
   "metadata": {},
   "outputs": [],
   "source": [
    "#2i\n",
    "print(\"d(w,v): \", np.linalg.norm(w-v))"
   ]
  },
  {
   "cell_type": "markdown",
   "id": "cebfa91e",
   "metadata": {},
   "source": [
    "<br><br>j. Find $d(\\textbf{u},\\textbf{w})$. <br>\n",
    "\\begin{align}\n",
    "= ||u - w||\n",
    "= \\sqrt{(1-3)^2 + (3+2)^2 + (-4-6)^2}\n",
    "= \\sqrt{(-2)^2 + 5^2 + (-10)^2}\n",
    "= \\sqrt{4 + 25 + 100}\n",
    "= \\sqrt{129}\n",
    "\\end{align}"
   ]
  },
  {
   "cell_type": "code",
   "execution_count": null,
   "id": "1a3c9444",
   "metadata": {},
   "outputs": [],
   "source": [
    "#2j\n",
    "print(\"d(u,w): \", np.linalg.norm(u-w))"
   ]
  },
  {
   "cell_type": "markdown",
   "id": "0543ece1",
   "metadata": {},
   "source": [
    "<br><br>k. Find $proj(\\textbf{u},\\textbf{v})$.<br>\n",
    "\\begin{align}\n",
    "\\frac{u.v}{||v||^2} v \n",
    "u.v = -15$<br>\n",
    "||v|| =\\sqrt{30}\n",
    "\\frac{-15}{30}(2,1,5) \n",
    "(\\frac{-30}{30}, \\frac{-15}{30}, \\frac{-75}{30})\n",
    "\\end{align}"
   ]
  },
  {
   "cell_type": "code",
   "execution_count": null,
   "id": "639719eb",
   "metadata": {},
   "outputs": [],
   "source": [
    "#2k\n",
    "print(\"proj(u,v): \",u.dot(v)*v/(np.linalg.norm(v)**2) )"
   ]
  },
  {
   "cell_type": "markdown",
   "id": "d8d66dd7",
   "metadata": {},
   "source": [
    "<br><br>l. Find $proj(\\textbf{w},\\textbf{v})$.<br>\n",
    "\\begin{align}\n",
    "\\frac{w.v}{||v||^2} v\n",
    "w.v = 34\n",
    "||v|| =\\sqrt{30}\n",
    "\\frac{34}{30}(2,1,5) \n",
    "(\\frac{68}{30}, \\frac{34}{30}, \\frac{170}{30})\n",
    "\\end{align}"
   ]
  },
  {
   "cell_type": "code",
   "execution_count": null,
   "id": "b07c8e5b",
   "metadata": {},
   "outputs": [],
   "source": [
    "#2l\n",
    "print(\"proj(w,v): \",w.dot(v)*v/(np.linalg.norm(v)**2) )\n"
   ]
  },
  {
   "cell_type": "markdown",
   "id": "e2694dd8",
   "metadata": {},
   "source": [
    "<br><br>m. Find $proj(\\textbf{u},\\textbf{w})$. <br>  \n",
    "\\begin{align}\n",
    "\\frac{u.w}{||w||^2} v \n",
    "u.w = -27\n",
    "||w|| =\\sqrt{49}\n",
    "\\frac{-27}{49}(3,-2,6) \n",
    "(\\frac{-81}{49}, \\frac{54}{49}, \\frac{-162}{49})\n",
    "\\end{align}"
   ]
  },
  {
   "cell_type": "code",
   "execution_count": null,
   "id": "e7e87ab1",
   "metadata": {},
   "outputs": [],
   "source": [
    "#2m\n",
    "print(\"proj(u,w): \",u.dot(w)*w/(np.linalg.norm(w)**2) )"
   ]
  },
  {
   "cell_type": "code",
   "execution_count": null,
   "id": "d54ab1a3",
   "metadata": {},
   "outputs": [],
   "source": [
    "#3\n",
    "u = np.array([2, -5, 4, 6, -3])   # vector u\n",
    "v = np.array([5, -2, 1, -7, -4])   # vector v:\n",
    "w = np.array([2, 1, -3, 0, 0]) # vector w"
   ]
  },
  {
   "cell_type": "markdown",
   "id": "f7622ede",
   "metadata": {},
   "source": [
    "<br><br>3. Let $\\textbf{u} = (2,-5,4,6,-3)$, $\\textbf{v} = (5,-2,1,-7,-4)$, and $\\textbf{w} = (2,1,-3)$ find:<br>"
   ]
  },
  {
   "cell_type": "markdown",
   "id": "2387d7ee",
   "metadata": {},
   "source": [
    "<br><br>a. $4\\textbf{u}-3\\textbf{v}$<br>\n",
    "\\begin{align}\n",
    "      = 4(2,-5,4, 6, -3) - 3(5,-2,1, -7, -4) \\\\\n",
    "      = (8,-20,16,24,-12) - (15,-6,3,-21,-12)  \\\\\n",
    "      = (-7,-35,13,45,0) \n",
    "\\end{align}"
   ]
  },
  {
   "cell_type": "code",
   "execution_count": null,
   "id": "c9a2a2aa",
   "metadata": {},
   "outputs": [],
   "source": [
    "#3a\n",
    "print(4*u - 3*v)"
   ]
  },
  {
   "cell_type": "markdown",
   "id": "2ef6ae9d",
   "metadata": {},
   "source": [
    "<br><br>b. $5\\textbf{u}+2\\textbf{v}-2\\textbf{w}$<br>\n",
    "\\begin{align}\n",
    "= 5(2,-5,4, 6, -3) + 2(5,-2,1, -7, -4) - 2(2,1,-3) \\\\\n",
    "      (10,-25,20,30,-15) + (10,-4,2,-14,-8) - (4,2,-6) \\\\\n",
    "[16,-31,,28,16,-23] \n",
    "\\end{align}"
   ]
  },
  {
   "cell_type": "code",
   "execution_count": null,
   "id": "c7f7840c",
   "metadata": {},
   "outputs": [],
   "source": [
    "#3b\n",
    "result = 5*u + 2*v\n",
    "print(result)"
   ]
  },
  {
   "cell_type": "code",
   "execution_count": null,
   "id": "b367fa2a",
   "metadata": {},
   "outputs": [],
   "source": [
    "result2 = 2*w\n",
    "print(result2)"
   ]
  },
  {
   "cell_type": "code",
   "execution_count": null,
   "id": "6e75c63f",
   "metadata": {},
   "outputs": [],
   "source": [
    "finalresult = result - result2\n",
    "print(finalresult)"
   ]
  },
  {
   "cell_type": "markdown",
   "id": "4b932c37",
   "metadata": {},
   "source": [
    "<br><br>c. $\\textbf{u} \\cdotp \\textbf{v}$,$\\textbf{v} \\cdotp \\textbf{w}$, $\\textbf{u} \\cdotp \\textbf{w}$<br>\n",
    "\\begin{align}\n",
    " u  \\cdot  v = 2(5) + (-5)(-2) + 4(1) + 6(-7) + (-3)(-4)\\\\ = -6 \\\\\n",
    "      v.w = (5)(2) + (-2)(1) + (1)(-3) + (-7)(0) + (-4)(0) \\\\\n",
    "    = 10 - 2 - 3 \\\\\n",
    "    = 5\\\\\n",
    "    u.w = (2)(2) + (-5)(1) + (4)(-3) + (6)(0) + (-3)(0) \\\\\n",
    "    = 4 - 5 - 12 \\\\\n",
    "    = -13 \n",
    "\\end{align}"
   ]
  },
  {
   "cell_type": "code",
   "execution_count": null,
   "id": "a5e2bd51",
   "metadata": {},
   "outputs": [],
   "source": [
    "#3c\n",
    "print(\"u.v = \", u.dot(v))"
   ]
  },
  {
   "cell_type": "code",
   "execution_count": null,
   "id": "75ef0d6b",
   "metadata": {},
   "outputs": [],
   "source": [
    "print(\"v.w = \", v.dot(w))"
   ]
  },
  {
   "cell_type": "code",
   "execution_count": null,
   "id": "195b3198",
   "metadata": {},
   "outputs": [],
   "source": [
    "print(\"u.w = \", u.dot(w))"
   ]
  },
  {
   "cell_type": "markdown",
   "id": "475c2634",
   "metadata": {},
   "source": [
    "<br><br>d. ||$\\textbf{u}$||, ||$\\textbf{v}$||, ||$\\textbf{w}$||<br>\n",
    "\\begin{align}\n",
    "||u|| = \\sqrt{2^2 + (-5)^2 + 4^2 + 6^2 + (-3)^2}\\\\ = \\sqrt{90}\\\\\n",
    "      ||v|| = \\sqrt{5^2 + (-2)^2 + 1^2 + (-7)^2 (-4)^2} \\\\ = \\sqrt{95} \\\\\n",
    "      ||w|| = \\sqrt{2^2 + 1^2 + (-3)^2} \\\\ = \\sqrt{14}\n",
    "\\end{align}"
   ]
  },
  {
   "cell_type": "code",
   "execution_count": null,
   "id": "3915aa1a",
   "metadata": {},
   "outputs": [],
   "source": [
    "#3d\n",
    "print('||u||: ', np.sqrt(u.dot(u)))"
   ]
  },
  {
   "cell_type": "code",
   "execution_count": null,
   "id": "eaa34a70",
   "metadata": {},
   "outputs": [],
   "source": [
    "print('||v||: ', np.sqrt(v.dot(v)))"
   ]
  },
  {
   "cell_type": "code",
   "execution_count": null,
   "id": "cf6a73c8",
   "metadata": {},
   "outputs": [],
   "source": [
    "print('||w||: ', np.sqrt(w.dot(w)))"
   ]
  },
  {
   "cell_type": "markdown",
   "id": "98a135c0",
   "metadata": {},
   "source": [
    "<br><br>e. If $\\theta$ is the angle between $\\textbf{u}$  and   $\\textbf{v}$, find $\\cos{\\theta}$.<br>\n",
    "\\begin{align}\n",
    "    = \\frac{2(5) + (-5)(-2) + 4(6) + 6(-7) + (-3)(-4)}{\\sqrt{2^2 + (-5)^2 + 4^2 + 6^2 + (-3)^2}\\sqrt{5^2 + (-2)^2 + 1^2 + (-7)^2 (-4)^2}}\n",
    "      = \\frac{-6}{\\sqrt{90}\\sqrt{95}}\n",
    "\\end{align}"
   ]
  },
  {
   "cell_type": "code",
   "execution_count": null,
   "id": "69c567a0",
   "metadata": {},
   "outputs": [],
   "source": [
    "#3e\n",
    "print(\"angle:\",u.dot(v)/(np.linalg.norm(u)*np.linalg.norm(v)))"
   ]
  },
  {
   "cell_type": "markdown",
   "id": "a0d69639",
   "metadata": {},
   "source": [
    "<br><br>f. If $\\alpha$ is the angle between $\\textbf{v}$  and   $\\textbf{w}$, find $\\cos{\\alpha}$.<br>\n",
    "\\begin{align}\n",
    "\\frac{\\mathbf{v} \\cdot \\mathbf{w}}{||\\mathbf{v}|| \\ ||\\mathbf{w}||} = \\frac{5}{\\sqrt{95} \\cdot \\sqrt{14}}\n",
    "\\end{align}\n"
   ]
  },
  {
   "cell_type": "code",
   "execution_count": null,
   "id": "2480c8d7",
   "metadata": {},
   "outputs": [],
   "source": [
    "#3f\n",
    "print(\"angle:\",v.dot(w)/(np.linalg.norm(v)*np.linalg.norm(w)))"
   ]
  },
  {
   "cell_type": "markdown",
   "id": "0e611b03",
   "metadata": {},
   "source": [
    "<br><br>g. If $\\beta$ is the angle between $\\textbf{u}$  and   $\\textbf{w}$, find $\\cos{\\beta}$.<br>\n",
    "\\begin{align}\n",
    "\\frac{\\mathbf{u} \\cdot \\mathbf{w}}{||\\mathbf{u}|| \\ ||\\mathbf{w}||} = \\frac{-13}{\\sqrt{90} \\cdot \\sqrt{14}}\n",
    "\\end{align}"
   ]
  },
  {
   "cell_type": "code",
   "execution_count": null,
   "id": "b79071cb",
   "metadata": {},
   "outputs": [],
   "source": [
    "#3g\n",
    "print(\"angle:\",u.dot(w)/(np.linalg.norm(u)*np.linalg.norm(w)))"
   ]
  },
  {
   "cell_type": "markdown",
   "id": "c4cd0ae0",
   "metadata": {},
   "source": [
    "<br><br>h. Find $d(\\textbf{u},\\textbf{v})$.<br>\n",
    "\\begin{align}\n",
    "||u - v|| = \\sqrt{(2-5)^2 + (-5+2)^2 + (4-1)^2 + (6+7)^2 + (-3 + 4)^2}\n",
    "       = \\sqrt{(-3) + (-3) + 3 + 13 + 1} = \\sqrt{197}\n",
    "\\end{align}"
   ]
  },
  {
   "cell_type": "code",
   "execution_count": null,
   "id": "67a88c45",
   "metadata": {},
   "outputs": [],
   "source": [
    "#3h\n",
    "print(\"d(u,v): \", np.linalg.norm(u-v))"
   ]
  },
  {
   "cell_type": "markdown",
   "id": "a8321e90",
   "metadata": {},
   "source": [
    "<br><br>i. Find $d(\\textbf{w},\\textbf{v})$.<br>\n",
    "\\begin{align}\n",
    "= ||w - v||\n",
    "= \\sqrt{(2-5)^2 + (1+2)^2 + (-3-1)^2 + (0+7)^2 + (0+4)^2}\n",
    "= \\sqrt{(-3)^2 + (3)^2 + (-4)^2 + 7^2 + 4^2}\n",
    "= \\sqrt{9 + 9 + 16 + 49 + 16}\n",
    "= \\sqrt{99}\n",
    "\\end{align}"
   ]
  },
  {
   "cell_type": "code",
   "execution_count": null,
   "id": "932ae959",
   "metadata": {},
   "outputs": [],
   "source": [
    "#3i\n",
    "print(\"d(w,v): \", np.linalg.norm(w-v))"
   ]
  },
  {
   "cell_type": "markdown",
   "id": "36242987",
   "metadata": {},
   "source": [
    "<br><br>j. Find $d(\\textbf{u},\\textbf{w})$. <br>\n",
    "\\begin{align}\n",
    "= ||u - w||\n",
    "= \\sqrt{(2-2)^2 + (-5-1)^2 + (4+3)^2 + (6-0)^2 + (-3-0)^2}\n",
    "= \\sqrt{(0)^2 + (-6)^2 + (7)^2 + 6^2 + (-3)^2}\n",
    "= \\sqrt{0 + 36 + 49 + 36 + 9}\n",
    "= \\sqrt{130}\n",
    "\\end{align}"
   ]
  },
  {
   "cell_type": "code",
   "execution_count": null,
   "id": "dcbb7155",
   "metadata": {},
   "outputs": [],
   "source": [
    "#3j\n",
    "print(\"d(u,w): \", np.linalg.norm(u-w))"
   ]
  },
  {
   "cell_type": "markdown",
   "id": "5417a94c",
   "metadata": {},
   "source": [
    "<br><br>k. Find $proj(\\textbf{u},\\textbf{v})$.<br>\n",
    "\\begin{align}\n",
    "\\frac{u \\cdot v}{||v||^2}v = \\frac{-6}{(\\sqrt{95})^2}(5,-2,1, -7, -4) = \\left(\\frac{-30}{95}, \\frac{12}{95}, \\frac{-6}{95}, \\frac{42}{95}, \\frac{24}{95}\\right)\n",
    "\\end{align}\n",
    "\n",
    "}\n"
   ]
  },
  {
   "cell_type": "code",
   "execution_count": null,
   "id": "4a073b4e",
   "metadata": {},
   "outputs": [],
   "source": [
    "#3k\n",
    "print(\"proj(u,v): \",u.dot(v)*v/(np.linalg.norm(v)**2) )"
   ]
  },
  {
   "cell_type": "markdown",
   "id": "3c407a3a",
   "metadata": {},
   "source": [
    "<br><br>l. Find $proj(\\textbf{w},\\textbf{v})$.<br>\n",
    "\\begin{align}\n",
    "\\frac{w.v}{||v||^2} v \n",
    "w.v = 5\n",
    "||v|| =\\sqrt{95}\n",
    "\\frac{5}{95}(5,-2,1,-7,-4) \n",
    "(\\frac{25}{95}, \\frac{-10}{95}, \\frac{5}{95}, \\frac{-35}{95}, \\frac{-20}{95})\n",
    "\\end{align}"
   ]
  },
  {
   "cell_type": "code",
   "execution_count": null,
   "id": "13bedf4d",
   "metadata": {},
   "outputs": [],
   "source": [
    "#3l\n",
    "print(\"proj(w,v): \",w.dot(v)*v/(np.linalg.norm(v)**2) )"
   ]
  },
  {
   "cell_type": "markdown",
   "id": "585df843",
   "metadata": {},
   "source": [
    "<br><br>m. Find $proj(\\textbf{u},\\textbf{w})$. <br> \n",
    "\\begin{align}\n",
    "\\frac{u.w}{||w||^2} w \n",
    "u.w = -13\n",
    "||w|| =\\sqrt{14}\n",
    "\\frac{-13}{14}(2,1,-3) \n",
    "(\\frac{-26}{14}, \\frac{-13}{14}, \\frac{39}{14})\n",
    "\\end{align}"
   ]
  },
  {
   "cell_type": "code",
   "execution_count": null,
   "id": "9c755501",
   "metadata": {},
   "outputs": [],
   "source": [
    "#3m\n",
    "print(\"proj(u,w): \",u.dot(w)*w/(np.linalg.norm(w)**2) )"
   ]
  },
  {
   "cell_type": "raw",
   "id": "d8ebf510",
   "metadata": {},
   "source": []
  },
  {
   "cell_type": "markdown",
   "id": "ed60587d",
   "metadata": {},
   "source": [
    "A.) $\\textbf{u'}$ <br>\n",
    "    \\begin{align}\n",
    "        Find ||u|| = \\sqrt{u \\cdot u} = \\sqrt{5(5) + (-7)^2} = \\sqrt{25 + 49} = \\sqrt{74} \\\\\n",
    "        \\textbf{u'} = \\frac{u}{||u||} = (\\frac{5}{\\sqrt{74}}, \\frac{-7}{\\sqrt{74}})\n",
    "        \\end{align}"
   ]
  },
  {
   "cell_type": "code",
   "execution_count": null,
   "id": "8d8fd4e1",
   "metadata": {},
   "outputs": [],
   "source": [
    "#4a\n",
    "u = np.array([5, -7])\n",
    "print('||u||: ',np.sqrt(u.dot(u)))"
   ]
  },
  {
   "cell_type": "markdown",
   "id": "9fbf0d86",
   "metadata": {},
   "source": [
    "<br><br>\n",
    "B.) $\\textbf{v'}$ <br>\n",
    "\\begin{align}\n",
    "||v|| &= \\sqrt{v \\cdot v} = \\sqrt{1(1) + (2)^2 + (-2)^2 + 4(4)} = \\sqrt{1 + 4 + 4 + 16} = \\sqrt{25} = 5 \\\\\n",
    "\\textbf{v'} &= \\frac{v}{||v||} = \\left(\\frac{1}{5}, \\frac{2}{5}, \\frac{-2}{5}, \\frac{4}{5}\\right)\n",
    "\\end{align}\n"
   ]
  },
  {
   "cell_type": "code",
   "execution_count": null,
   "id": "4e7d5793",
   "metadata": {},
   "outputs": [],
   "source": [
    "#4b\n",
    "v = np.array([1, 2, -2, 4])\n",
    "print('||v||: ',np.sqrt(v.dot(v)))"
   ]
  },
  {
   "cell_type": "markdown",
   "id": "aef64e83",
   "metadata": {},
   "source": [
    "<br><br>\n",
    " $\\textbf{w'}$ <br>\n",
    "\\begin{align}\n",
    "||w|| &= \\sqrt{w \\cdot w} = \\sqrt{\\left(\\frac{1}{2}\\right)^2 + \\left(\\frac{-1}{3}\\right)^2 + \\left(\\frac{3}{5}\\right)^2} \\\\\n",
    "&= \\sqrt{\\frac{1}{4} + \\frac{1}{9} + \\frac{9}{25}} \\\\\n",
    "&= \\sqrt{\\frac{25}{100} + \\frac{44}{900} + \\frac{324}{900}} \\\\\n",
    "&= \\sqrt{\\frac{225}{900} + \\frac{44}{900} + \\frac{324}{900}} \\\\\n",
    "&= \\sqrt{\\frac{593}{900}} \\\\\n",
    "&= \\frac{\\sqrt{593}}{30}\\\\\n",
    "\\textbf{w'} &= \\frac{w}{||w||} = \\left(\\frac{30}{2\\sqrt{593}}, \\frac{-30}{3\\sqrt{593}}, \\frac{90}{5\\sqrt{593}}\\right) \n",
    "\\end{align}\n"
   ]
  },
  {
   "cell_type": "code",
   "execution_count": 16,
   "id": "fc87265f",
   "metadata": {},
   "outputs": [
    {
     "name": "stdout",
     "output_type": "stream",
     "text": [
      "||w||:  0.961046882889233\n"
     ]
    }
   ],
   "source": [
    "#4c\n",
    "w = np.array([1/2, -1/3, 3/4])\n",
    "print('||w||: ',np.sqrt(w.dot(w)))"
   ]
  },
  {
   "cell_type": "markdown",
   "id": "5c84991c",
   "metadata": {},
   "source": [
    "<br><br>5. Let $\\textbf{u} = (1,2,-2)$,$\\textbf{v} = (3,-12,4)$ and a scalar $k = -3$: <br>\n",
    "Find $||u||, ||v||, ||u+v||, ||ku||$.<br>\n",
    "<br>\n",
    "<br>"
   ]
  },
  {
   "cell_type": "markdown",
   "id": "6c19dbee",
   "metadata": {},
   "source": [
    "  <br><br>\n",
    "\\begin{align}\n",
    " ||u|| = \\sqrt{u \\cdot u} = \\sqrt{1^2 + 2^2 + (-2)^2} = \\sqrt{1 + 4 + 4} = \\sqrt{9} = 3 \n",
    " \\end{align} "
   ]
  },
  {
   "cell_type": "code",
   "execution_count": 18,
   "id": "d5b573bb",
   "metadata": {},
   "outputs": [
    {
     "name": "stdout",
     "output_type": "stream",
     "text": [
      "||u||:  3.0\n"
     ]
    }
   ],
   "source": [
    "#5\n",
    "u = np.array([1,2, -2])\n",
    "v = np.array([3, -12, 4])\n",
    "k = -3\n",
    "\n",
    "print('||u||: ',np.sqrt(u.dot(u)))"
   ]
  },
  {
   "cell_type": "markdown",
   "id": "7751e480",
   "metadata": {},
   "source": [
    "<br><br>\\begin{align}  ||v|| = \\sqrt{v \\cdot v} = \\sqrt{3^2 + (-12)^2 + 4^2} = \\sqrt{9 + 144 + 16} = \\sqrt{169} = 13 \n",
    "\\end{align} "
   ]
  },
  {
   "cell_type": "code",
   "execution_count": null,
   "id": "410b5457",
   "metadata": {},
   "outputs": [],
   "source": [
    "print('||v||: ',np.sqrt(v.dot(v)))"
   ]
  },
  {
   "cell_type": "markdown",
   "id": "10da55fd",
   "metadata": {},
   "source": [
    "  <br><br> \\begin{align}  ||u+v|| = \\sqrt{(u+v)^2} = \\sqrt{(1+3)^2 + (2+(-12))^2 + (-2+4)^2} = \\sqrt{16 + 100 + 4} = \\sqrt{120} \\end{align} "
   ]
  },
  {
   "cell_type": "code",
   "execution_count": 19,
   "id": "12afc686",
   "metadata": {},
   "outputs": [
    {
     "name": "stdout",
     "output_type": "stream",
     "text": [
      "||u + v||:  10.954451150103322\n"
     ]
    }
   ],
   "source": [
    "print(\"||u + v||: \", np.linalg.norm(u+v))"
   ]
  },
  {
   "cell_type": "markdown",
   "id": "bb6d5bea",
   "metadata": {},
   "source": [
    "<br> <br> \\begin{align} ||*k*u|| = \\sqrt{(k \\cdot u)^2} = \\sqrt{(1(-3))^2 + (2(-3))^2 + (-2(-3))^2} = \\sqrt{9 + 36 + 36} = \\sqrt{81} = 9 \\end{align} "
   ]
  },
  {
   "cell_type": "code",
   "execution_count": null,
   "id": "67daff45",
   "metadata": {},
   "outputs": [],
   "source": [
    "print(\"||ku||: \", np.linalg.norm(k*u))"
   ]
  },
  {
   "cell_type": "markdown",
   "id": "2a65abc3",
   "metadata": {},
   "source": [
    "6. Find k so that $\\textbf{u}  \\ and \\  \\textbf{v}$ are orthogonal.<br>\n",
    "a. $\\textbf{u} = (3, k, -2), \\textbf{v} = (6, -4, -3)$.<br>\n",
    "b. $\\textbf{u} = (5,k,-4,2), \\textbf{v} = (1,-3,2,2k)$.<br>\n",
    "c. $\\textbf{u} = (1,7,k+2,-2), \\textbf{v} = (3, k, -3,k)$.<br>"
   ]
  },
  {
   "cell_type": "markdown",
   "id": "89a205c9",
   "metadata": {},
   "source": [
    "<br><br> \\begin{align}\n",
    "u = (3, k, -2) v = (6, -4, -3) \\\\\n",
    "      = 3(6) -4k + (-2)(-3) = 18 - 4k + 6 \\\\\n",
    "      4k = 24 ; k = 6\n",
    "\\end{align}"
   ]
  },
  {
   "cell_type": "code",
   "execution_count": 21,
   "id": "9e42490a",
   "metadata": {},
   "outputs": [
    {
     "name": "stdout",
     "output_type": "stream",
     "text": [
      "[6]\n"
     ]
    }
   ],
   "source": [
    "#6a\n",
    "import sympy as sp\n",
    "k = sp.symbols('k')\n",
    "\n",
    "u = sp.Matrix([3, k, -2])\n",
    "v = sp.Matrix([6, -4, -3])\n",
    "\n",
    "dot_product = u.dot(v)\n",
    "equation = sp.Eq(dot_product, 0)\n",
    "\n",
    "solutions = sp.solve(equation, k)\n",
    "print(solutions)\n"
   ]
  },
  {
   "cell_type": "markdown",
   "id": "c7d7e086",
   "metadata": {},
   "source": [
    "<br><br>\\begin{align}\n",
    "= (5, k, -4, 2) v = (1, -3, 2, 2k) \\\\\n",
    "     = 5 - 3k - 8 + 4k = k - 3 ; k = 3\n",
    "     \\end{align}"
   ]
  },
  {
   "cell_type": "code",
   "execution_count": 22,
   "id": "51735c00",
   "metadata": {},
   "outputs": [
    {
     "name": "stdout",
     "output_type": "stream",
     "text": [
      "[3]\n"
     ]
    }
   ],
   "source": [
    "#6b\n",
    "k = sp.symbols('k')\n",
    "\n",
    "u = sp.Matrix([5, k, -4, 2])\n",
    "v = sp.Matrix([1, -3, 2, 2 * k])\n",
    "\n",
    "dot_product = u.dot(v)\n",
    "equation = sp.Eq(dot_product, 0)\n",
    "\n",
    "solutions = sp.solve(equation, k)\n",
    "\n",
    "print(solutions)\n"
   ]
  },
  {
   "cell_type": "markdown",
   "id": "06f3c1e4",
   "metadata": {},
   "source": [
    "<br><br>\n",
    "\\begin{align}\n",
    "(1, 7, k+2, -2) v = (3, k, -3, k) \\\\\n",
    "     = 3 + 7k -3k - 6 - 2k = 2k - 3 ; k = 3/2\n",
    "\\end{align}"
   ]
  },
  {
   "cell_type": "code",
   "execution_count": 23,
   "id": "5a527fd2",
   "metadata": {},
   "outputs": [
    {
     "name": "stdout",
     "output_type": "stream",
     "text": [
      "[3/2]\n"
     ]
    }
   ],
   "source": [
    "#6c\n",
    "k = sp.symbols('k')\n",
    "\n",
    "u = sp.Matrix([1, 7, k+2, -2])\n",
    "v = sp.Matrix([3, k, -3, k])\n",
    "\n",
    "dot_product = u.dot(v)\n",
    "equation = sp.Eq(dot_product, 0)\n",
    "\n",
    "solutions = sp.solve(equation, k)\n",
    "\n",
    "print(solutions)\n"
   ]
  },
  {
   "cell_type": "code",
   "execution_count": null,
   "id": "3c261818",
   "metadata": {},
   "outputs": [],
   "source": []
  }
 ],
 "metadata": {
  "kernelspec": {
   "display_name": "Python 3 (ipykernel)",
   "language": "python",
   "name": "python3"
  },
  "language_info": {
   "codemirror_mode": {
    "name": "ipython",
    "version": 3
   },
   "file_extension": ".py",
   "mimetype": "text/x-python",
   "name": "python",
   "nbconvert_exporter": "python",
   "pygments_lexer": "ipython3",
   "version": "3.11.4"
  }
 },
 "nbformat": 4,
 "nbformat_minor": 5
}
