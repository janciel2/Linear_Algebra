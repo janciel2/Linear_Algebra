{
 "cells": [
  {
   "cell_type": "markdown",
   "id": "6c52bbfb",
   "metadata": {},
   "source": [
    "Janciel Fidel M. Pedrano 21103748"
   ]
  },
  {
   "cell_type": "code",
   "execution_count": 1,
   "id": "c35c71ae",
   "metadata": {},
   "outputs": [
    {
     "name": "stdout",
     "output_type": "stream",
     "text": [
      "Determinant of the matrix:\n",
      "[[4, 7, 6], [5, 6, 10], [7, 10, 4]]\n",
      " is 94\n",
      "\n",
      "Eigenvalues of the matrix:\n",
      "[[2, 10, 8], [1, 3, 7], [5, 7, 4]]\n",
      " are [(14.742882720503687+0j), (-2.871441360251848+1.8497218549360714j), (-2.871441360251848-1.8497218549360714j)]\n",
      "\n",
      "Eigenvectors of the matrix:\n",
      "[[2, 10, 8], [1, 3, 7], [5, 7, 4]]\n",
      " are [[(0.6938769751924773+0j), (-0.29802769684499314-0.49816316422033036j), (-0.29802769684499314+0.49816316422033036j)], [(0.41139262312890906+0j), (0.6178783548309612+0j), (0.6178783548309612-0j)], [(0.5910083357558115+0j), (-0.47568697590198233+0.23443803726330054j), (-0.47568697590198233-0.23443803726330054j)]]\n",
      "\n"
     ]
    }
   ],
   "source": [
    "import random\n",
    "import numpy as np\n",
    "\n",
    "def determinant(matrix):\n",
    "    # Base case: if the matrix is 1x1, return its only element\n",
    "    if len(matrix) == 1 and len(matrix[0]) == 1:\n",
    "        return matrix[0][0]\n",
    "\n",
    "    det = 0\n",
    "    for i in range(len(matrix)):\n",
    "        # Calculate the cofactor for each element in the first row\n",
    "        cofactor = matrix[0][i] * ((-1) ** i) * determinant(minor(matrix, 0, i))\n",
    "        det += cofactor\n",
    "\n",
    "    return det\n",
    "\n",
    "def minor(matrix, row, col):\n",
    "    # Return the minor of the matrix after removing the specified row and column\n",
    "    return [[matrix[i][j] for j in range(len(matrix[i])) if j != col] for i in range(len(matrix)) if i != row]\n",
    "\n",
    "def eigen(matrix):\n",
    "    # Convert the matrix to a NumPy array\n",
    "    np_matrix = np.array(matrix)\n",
    "\n",
    "    # Calculate eigenvalues and eigenvectors using NumPy\n",
    "    eigenvalues, eigenvectors = np.linalg.eig(np_matrix)\n",
    "\n",
    "    # Convert the results back to regular Python lists\n",
    "    eigenvalues = eigenvalues.tolist()\n",
    "    eigenvectors = eigenvectors.tolist()\n",
    "\n",
    "    return eigenvalues, eigenvectors\n",
    "\n",
    "# Function to generate a random n x n matrix\n",
    "def generate_matrix(n):\n",
    "    return [[random.randint(1, 10) for _ in range(n)] for _ in range(n)]\n",
    "\n",
    "# Test the determinant and eigen functions\n",
    "matrix_det = generate_matrix(3)\n",
    "det_result = determinant(matrix_det)\n",
    "print(f\"Determinant of the matrix:\\n{matrix_det}\\n is {det_result}\\n\")\n",
    "\n",
    "matrix_eigen = generate_matrix(3)\n",
    "eigenvalues, eigenvectors = eigen(matrix_eigen)\n",
    "print(f\"Eigenvalues of the matrix:\\n{matrix_eigen}\\n are {eigenvalues}\\n\")\n",
    "print(f\"Eigenvectors of the matrix:\\n{matrix_eigen}\\n are {eigenvectors}\\n\")"
   ]
  },
  {
   "cell_type": "code",
   "execution_count": null,
   "id": "475593bd",
   "metadata": {},
   "outputs": [],
   "source": []
  }
 ],
 "metadata": {
  "kernelspec": {
   "display_name": "Python 3 (ipykernel)",
   "language": "python",
   "name": "python3"
  },
  "language_info": {
   "codemirror_mode": {
    "name": "ipython",
    "version": 3
   },
   "file_extension": ".py",
   "mimetype": "text/x-python",
   "name": "python",
   "nbconvert_exporter": "python",
   "pygments_lexer": "ipython3",
   "version": "3.11.4"
  }
 },
 "nbformat": 4,
 "nbformat_minor": 5
}
